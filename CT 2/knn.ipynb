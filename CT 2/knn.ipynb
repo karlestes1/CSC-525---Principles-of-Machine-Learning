{
 "cells": [
  {
   "cell_type": "markdown",
   "metadata": {},
   "source": [
    "## CSC 525 - Critical Thinking 2: Option 2\n",
    "### Predicting Video Game Preferences with KNN\n",
    "\n",
    "For your assignment, you will build a KNN classifier in Python.\n",
    "Download the class [data](https://gist.githubusercontent.com/dhar174/14177e1d874a33bfec565a07875b875a/raw/7aa9afaaacc71aa0e8bc60b38111c24e584c74d8/data.csv) in CSV format:\n",
    "\n",
    "Using this data, your classifier should be able to predict a person's favorite video game genre based on their age, height, weight, and gender. (Do not worry about real-world accuracy here. This is to provide you an opportunity to practice.)\n",
    "\n",
    "---\n",
    "A KNN model can be implemented using the following steps:\n",
    "1.\tLoad the data;\n",
    "2.\tInitialise the value of k;\n",
    "3.\tFor getting the predicted class, iterate from 1 to total number of training data points;\n",
    "4.\tCalculate the distance between test data and each row of training data;\n",
    "5.\tSort the calculated distances in ascending order based on distance values;\n",
    "6.\tGet top k rows from the sorted array;\n",
    "7.\tGet the most frequent class of these rows; and\n",
    "8.\tReturn the predicted class."
   ]
  },
  {
   "cell_type": "code",
   "execution_count": 47,
   "metadata": {},
   "outputs": [],
   "source": [
    "import pandas as pd\n",
    "\n",
    "k = 5\n",
    "age = 22\n",
    "height = 64\n",
    "weight = 173\n",
    "gender = 1\n"
   ]
  },
  {
   "cell_type": "code",
   "execution_count": 48,
   "metadata": {},
   "outputs": [
    {
     "name": "stdout",
     "output_type": "stream",
     "text": [
      "   age  height  weight  gender       genre\n",
      "0   15      66     237       0    Strategy\n",
      "1   21      60     238       0  Platformer\n",
      "2   14      78     176       1    Strategy\n",
      "3   10      67     216       1    Strategy\n",
      "4   19      69     185       1         RPG\n"
     ]
    }
   ],
   "source": [
    "# Load data\n",
    "df = pd.read_csv(\"data.csv\", names=['age','height','weight','gender','genre'])\n",
    "print(df.head(5))"
   ]
  },
  {
   "cell_type": "code",
   "execution_count": 49,
   "metadata": {},
   "outputs": [
    {
     "name": "stdout",
     "output_type": "stream",
     "text": [
      "   age  height  weight  gender       genre  distance\n",
      "0   15      66     237       0    Strategy        74\n",
      "1   21      60     238       0  Platformer        71\n",
      "2   14      78     176       1    Strategy        25\n",
      "3   10      67     216       1    Strategy        58\n",
      "4   19      69     185       1         RPG        20\n"
     ]
    }
   ],
   "source": [
    "df['distance'] = abs(df['age'] - age) + abs(df['height'] - height) + abs(df['weight'] - weight) + abs(df['gender'] - gender)\n",
    "print(df.head(5))"
   ]
  },
  {
   "cell_type": "code",
   "execution_count": 50,
   "metadata": {},
   "outputs": [
    {
     "name": "stdout",
     "output_type": "stream",
     "text": [
      "     age  height  weight  gender     genre  distance\n",
      "103   25      66     174       0  Strategy         7\n",
      "44    28      64     171       1       RPG         8\n",
      "39    26      70     178       1       RPG        15\n",
      "135   16      71     174       0    Action        15\n",
      "182   12      63     177       0  Strategy        16\n"
     ]
    }
   ],
   "source": [
    "df = df.sort_values('distance')\n",
    "print(df.head(k))"
   ]
  },
  {
   "cell_type": "code",
   "execution_count": 51,
   "metadata": {},
   "outputs": [
    {
     "name": "stdout",
     "output_type": "stream",
     "text": [
      "Strategy\n"
     ]
    }
   ],
   "source": [
    "pred = df.head(k)['genre'].value_counts().index[0]\n",
    "print(pred)"
   ]
  },
  {
   "cell_type": "code",
   "execution_count": 52,
   "metadata": {},
   "outputs": [
    {
     "name": "stdout",
     "output_type": "stream",
     "text": [
      "Strategy    2\n",
      "RPG         2\n",
      "Action      1\n",
      "Name: genre, dtype: int64\n"
     ]
    }
   ],
   "source": [
    "counts = df.head(k)['genre'].value_counts()\n",
    "print(counts)\n"
   ]
  },
  {
   "cell_type": "code",
   "execution_count": 58,
   "metadata": {},
   "outputs": [
    {
     "data": {
      "text/plain": [
       "array(['Strategy', 'RPG'], dtype=object)"
      ]
     },
     "execution_count": 58,
     "metadata": {},
     "output_type": "execute_result"
    }
   ],
   "source": [
    "counts.loc[counts == counts.max()].index.values"
   ]
  }
 ],
 "metadata": {
  "interpreter": {
   "hash": "393fcab780e87c738780ceeb980b543ebdfd57cc9b80e4ffd28fcf595b13429f"
  },
  "kernelspec": {
   "display_name": "Python 3.8.10 64-bit ('CSUG': conda)",
   "language": "python",
   "name": "python3"
  },
  "language_info": {
   "codemirror_mode": {
    "name": "ipython",
    "version": 3
   },
   "file_extension": ".py",
   "mimetype": "text/x-python",
   "name": "python",
   "nbconvert_exporter": "python",
   "pygments_lexer": "ipython3",
   "version": "3.8.10"
  },
  "orig_nbformat": 4
 },
 "nbformat": 4,
 "nbformat_minor": 2
}
